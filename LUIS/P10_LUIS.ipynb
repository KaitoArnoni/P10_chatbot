{
 "cells": [
  {
   "cell_type": "markdown",
   "id": "designed-narrow",
   "metadata": {},
   "source": [
    "*Kaito Arnoni Lacerda* - *Parcours Ingénieur IA*\n",
    "\n",
    "# <font color=black size=6> P10 - DÉVELOPPEZ UN CHATBOT POUR RÉSERVER DES VACANCES </font> #\n",
    "\n",
    "\n",
    "# <font color=black size=5> II - Création et entraînement app LUIS </font> #"
   ]
  },
  {
   "cell_type": "markdown",
   "id": "tired-teach",
   "metadata": {},
   "source": [
    "###  <font size=4 color=\"#3498DB \"> 1. Créer le service « LUIS Language Understanding » <a name=\"1\"></a> </font>"
   ]
  },
  {
   "cell_type": "code",
   "execution_count": 66,
   "id": "circular-termination",
   "metadata": {},
   "outputs": [],
   "source": [
    "from azure.cognitiveservices.language.luis.authoring import LUISAuthoringClient\n",
    "from msrest.authentication import CognitiveServicesCredentials\n",
    "from dotenv import load_dotenv, find_dotenv\n",
    "\n",
    "import datetime, json, os, time, sys\n",
    "import requests, time\n",
    "\n",
    "import pandas as pd\n",
    "import numpy as np\n",
    "\n",
    "from tqdm import tqdm\n",
    "\n",
    "load_dotenv()"
   ]
  },
  {
   "cell_type": "code",
   "execution_count": 98,
   "id": "incident-million",
   "metadata": {},
   "outputs": [],
   "source": [
    "authoring_key = os.getenv('AUTHORING_KEY')\n",
    "\n",
    "authoring_endpoint = os.getenv('AUTHORING_ENDPOINT')\n",
    "\n",
    "# Instantiate a LUIS client\n",
    "client = LUISAuthoringClient(authoring_endpoint, CognitiveServicesCredentials(authoring_key))"
   ]
  },
  {
   "cell_type": "code",
   "execution_count": 4,
   "id": "perfect-letters",
   "metadata": {},
   "outputs": [],
   "source": [
    "# CreateApp\n",
    "\n",
    "def create_app():\n",
    "# Create a new LUIS app\n",
    "    app_name = \"LuisP10_app {}\".format(datetime.datetime.now())\n",
    "    app_desc = \"Projet_10_MVP_Flight_booking\"\n",
    "    app_version = \"1\"\n",
    "    app_locale = \"en-us\"\n",
    "\n",
    "    app_id = client.apps.add(dict(name=app_name,\n",
    "                                  initial_version_id=app_version,\n",
    "                                  description=app_desc,\n",
    "                                  culture=app_locale))\n",
    "\n",
    "    print(\"LUIS app {}\\n crée with ID {}\".format(app_name, app_id))\n",
    "    return app_id, app_version"
   ]
  },
  {
   "cell_type": "code",
   "execution_count": 5,
   "id": "unsigned-webcam",
   "metadata": {},
   "outputs": [
    {
     "name": "stdout",
     "output_type": "stream",
     "text": [
      "Creating application...\n",
      "LUIS app LuisP10_app 2022-04-27 17:31:50.170740\n",
      " C crée with ID 4151fd40-18a7-4701-8d67-bf7ec96a511a\n",
      "\n"
     ]
    }
   ],
   "source": [
    "print(\"Creating application...\")\n",
    "app_id, app_version = create_app()\n",
    "print()"
   ]
  },
  {
   "cell_type": "markdown",
   "id": "southeast-column",
   "metadata": {},
   "source": [
    "###  <font size=4 color=\"#3498DB \"> 2. Création et ajout d'entités <a name=\"1\"></a> </font>\n",
    "\n",
    "\n",
    "* from_city - ville de départ\n",
    "* to_city - ville de destination\n",
    "* from_dt - date aller souhaitée du vo\n",
    "* to_dt - date retour souhaitée du vol\n",
    "* budget - budget maximum pour le prix total des billets.   "
   ]
  },
  {
   "cell_type": "code",
   "execution_count": 7,
   "id": "sustained-bradford",
   "metadata": {},
   "outputs": [],
   "source": [
    "# addEntities\n",
    "def add_entities(app_id, app_version):\n",
    "    from_cityEntityId = client.model.add_entity(app_id, app_version, name=\"from_city\")\n",
    "    print(\"from_cityEntityId {} entité crée.\".format(from_cityEntityId))\n",
    "    \n",
    "    to_cityEntityId = client.model.add_entity(app_id, app_version, name=\"to_city\")\n",
    "    print(\"to_cityEntityId {} entité crée.\".format(to_cityEntityId))\n",
    "    \n",
    "    from_dtEntityId = client.model.add_entity(app_id, app_version, name=\"from_dt\")\n",
    "    print(\"from_dtEntityId {} entité crée.\".format(from_dtEntityId))\n",
    "    \n",
    "    to_dtEntityId = client.model.add_entity(app_id, app_version, name=\"to_dt\")\n",
    "    print(\"to_dtEntityId {} entité crée.\".format(to_dtEntityId))\n",
    "    \n",
    "    budgetEntityId = client.model.add_entity(app_id, app_version, name=\"budget\")\n",
    "    print(\"budgetEntityId {} entité crée.\".format(budgetEntityId))"
   ]
  },
  {
   "cell_type": "code",
   "execution_count": 8,
   "id": "asian-plenty",
   "metadata": {},
   "outputs": [
    {
     "name": "stdout",
     "output_type": "stream",
     "text": [
      "Ajout d'entités à l'application...\n",
      "from_cityEntityId 56d4ab5b-6e6a-459c-9212-638eb2b0195d entité crée.\n",
      "to_cityEntityId 8d33472b-a0bd-45c8-b9ca-ac355fcf6b92 entité crée.\n",
      "from_dtEntityId a44bdd82-ec5e-468a-b60e-748cfca7d95c entité crée.\n",
      "to_dtEntityId 6e1e690a-0255-4ac9-a430-fdb3eb35054b entité crée.\n",
      "budgetEntityId cc8903af-808e-4671-a3cd-2921a3dd3e8a entité crée.\n",
      "Opération terminée.\n"
     ]
    }
   ],
   "source": [
    "print (\"Ajout d'entités à l'application...\")\n",
    "add_entities(app_id, app_version)\n",
    "print (\"Opération terminée.\")"
   ]
  },
  {
   "cell_type": "markdown",
   "id": "compound-baltimore",
   "metadata": {},
   "source": [
    "###  <font size=4 color=\"#3498DB \"> 3. Création d'une intention pour l’application <a name=\"1\"></a> </font>"
   ]
  },
  {
   "cell_type": "code",
   "execution_count": 9,
   "id": "tender-reach",
   "metadata": {},
   "outputs": [],
   "source": [
    "#addIntents\n",
    "def add_intents(app_id, app_version):\n",
    "    intentId = client.model.add_intent(app_id, app_version, \"book_flight\")\n",
    "\n",
    "    print(\"Intention book_flight {} ajouté.\".format(intentId))"
   ]
  },
  {
   "cell_type": "code",
   "execution_count": 11,
   "id": "advised-graduation",
   "metadata": {},
   "outputs": [
    {
     "name": "stdout",
     "output_type": "stream",
     "text": [
      "Ajout d'intention à l'application...\n",
      "Intention book_flight e1d0902b-4211-4d0d-9782-b27f2c69d86a ajouté.\n",
      "\n"
     ]
    }
   ],
   "source": [
    "print (\"Ajout d'intention à l'application...\")\n",
    "add_intents(app_id, app_version)\n",
    "print ()"
   ]
  },
  {
   "cell_type": "markdown",
   "id": "dominant-tower",
   "metadata": {},
   "source": [
    "###  <font size=4 color=\"#3498DB \"> 4. Ajouter un exemple d’énoncé à une intention <a name=\"1\"></a> </font>"
   ]
  },
  {
   "cell_type": "code",
   "execution_count": 31,
   "id": "emotional-radio",
   "metadata": {},
   "outputs": [],
   "source": [
    "def create_utterance(intent, utterance, *labels):\n",
    "\n",
    "    text = utterance.lower()\n",
    "\n",
    "    def label(name, value):\n",
    "        value = value.lower()\n",
    "        start = text.index(value)\n",
    "        return dict(entity_name=name, start_char_index=start,\n",
    "                    end_char_index=start + len(value))\n",
    "\n",
    "    return dict(text=text, intent_name=intent,\n",
    "                entity_labels=[label(n, v) for (n, v) in labels])\n",
    "\n",
    "def add_utterances(app_id, app_version):\n",
    "    # Now define the utterances\n",
    "    utterances = [create_utterance(\"book_flight\", \"book flight from London to Paris on May 22, 2021 returning june 21, 2021 for $200\",\n",
    "                                (\"from_city\", \"London\"),\n",
    "                                (\"to_city\", \"Paris\"),\n",
    "                                (\"from_dt\", \"May 22, 2021\"),\n",
    "                                (\"to_dt\", \"june 21, 2021\"),\n",
    "                                (\"budget\", \"$200\"))]\n",
    "\n",
    "    # Add the utterances in batch. You may add any number of example utterances\n",
    "    # for any number of intents in one call.\n",
    "    client.examples.batch(app_id, app_version, utterances)\n",
    "    print(\"{} Exemple d’énoncé ajouté.\".format(len(utterances)))\n"
   ]
  },
  {
   "cell_type": "code",
   "execution_count": 32,
   "id": "orange-whole",
   "metadata": {},
   "outputs": [
    {
     "name": "stdout",
     "output_type": "stream",
     "text": [
      "Ajout d'exemple à l'application...\n",
      "1 Exemple d’énoncé ajouté.\n",
      "\n"
     ]
    }
   ],
   "source": [
    "print (\"Ajout d'exemple à l'application...\")\n",
    "add_utterances(app_id, app_version)\n",
    "print ()"
   ]
  },
  {
   "cell_type": "markdown",
   "id": "amended-shareware",
   "metadata": {},
   "source": [
    "###  <font size=4 color=\"#3498DB \"> 5. Apprentissage de l’application <a name=\"1\"></a> </font>"
   ]
  },
  {
   "cell_type": "code",
   "execution_count": 96,
   "id": "inner-error",
   "metadata": {},
   "outputs": [],
   "source": [
    "def train_app(app_id, app_version):\n",
    "    response = client.train.train_version(app_id, app_version)\n",
    "    waiting = True\n",
    "    while waiting:\n",
    "        info = client.train.get_status(app_id, app_version)\n",
    "\n",
    "        # get_status returns a list of training statuses, one for each model. Loop through them and make sure all are done.\n",
    "        waiting = any(map(lambda x: 'Queued' == x.details.status or 'InProgress' == x.details.status, info))\n",
    "        if waiting:\n",
    "            print (\"Attendez 10 secondes pour que l'apprentissage se termine...\")\n",
    "            time.sleep(10)"
   ]
  },
  {
   "cell_type": "code",
   "execution_count": 35,
   "id": "commercial-bowling",
   "metadata": {},
   "outputs": [
    {
     "name": "stdout",
     "output_type": "stream",
     "text": [
      "Apprentissage de l’application ...\n",
      "Attendez 10 secondes pour que l'apprentissage se termine...\n",
      "\n"
     ]
    }
   ],
   "source": [
    "print (\"Apprentissage de l’application ...\")\n",
    "train_app(app_id, app_version)\n",
    "print ()"
   ]
  },
  {
   "cell_type": "code",
   "execution_count": null,
   "id": "unable-eugene",
   "metadata": {},
   "outputs": [],
   "source": [
    "def get_params(endpoint, app_version, prediction_key, app_id):\n",
    "    \"\"\"Renvoie les paramètres de l'app LUIS\"\"\"\n",
    "    \n",
    "    # On envoie la requête permettant d'exporter le modèle au format json\n",
    "    response = requests.get(\n",
    "        url=f\"{endpoint}luis/authoring/v3.0-preview/apps/{app_id}/versions/{app_version}/export\",\n",
    "        params={\n",
    "            \"format\": \"json\"\n",
    "        },\n",
    "        headers={\n",
    "            \"Ocp-Apim-Subscription-Key\": prediction_key,\n",
    "        }\n",
    "    )\n",
    "    \n",
    "    # On vérifie la réponse\n",
    "    check_response_ok_or_raise_for_status(response)\n",
    "    \n",
    "    # On renvoie les paramètres\n",
    "    return response.json()"
   ]
  },
  {
   "cell_type": "code",
   "execution_count": 83,
   "id": "revised-terminal",
   "metadata": {},
   "outputs": [],
   "source": [
    "param = get_params(authoring_endpoint,\"1\",authoring_key, app_id)"
   ]
  },
  {
   "cell_type": "code",
   "execution_count": 84,
   "id": "approximate-morocco",
   "metadata": {},
   "outputs": [],
   "source": [
    "JSON_PATH_LUIS = \"/Users/kaju/Documents/FORMACAO IA OPENCLASSROOMS/PROJET 10 - DEVELOPPEZ UN CHATBOT POUR RESERVER DES VACANCES/P10_ARNONI_KAITO/ARNONI_KAITO_2_LUIS_042022/\"\n",
    "    \n",
    "\n",
    "file_path = os.path.join(JSON_PATH_LUIS, \"param.json\")\n",
    "with open(file_path, \"w\") as f:\n",
    "    json.dump(param, f)"
   ]
  },
  {
   "cell_type": "markdown",
   "id": "cellular-dialogue",
   "metadata": {},
   "source": [
    "###  <font size=4 color=\"#3498DB \"> 6. Publier l'application dans l’emplacement de production <a name=\"1\"></a> </font>\n"
   ]
  },
  {
   "cell_type": "code",
   "execution_count": 102,
   "id": "commercial-wisdom",
   "metadata": {},
   "outputs": [],
   "source": [
    "def publish_app(app_id, app_version):\n",
    "    client.apps.update_settings(app_id, is_public=True)\n",
    "    responseEndpointInfo = client.apps.publish(app_id, app_version, is_staging=False)\n",
    "    print(\"Point de terminaison: \" + responseEndpointInfo.endpoint_url)\n"
   ]
  },
  {
   "cell_type": "code",
   "execution_count": 45,
   "id": "described-repeat",
   "metadata": {},
   "outputs": [
    {
     "name": "stdout",
     "output_type": "stream",
     "text": [
      "On publie l'application...\n",
      "Point de terminaison: https://westeurope.api.cognitive.microsoft.com/luis/v2.0/apps/4151fd40-18a7-4701-8d67-bf7ec96a511a\n"
     ]
    }
   ],
   "source": [
    "print (\"On publie l'application...\")\n",
    "publish_app(app_id, app_version)"
   ]
  },
  {
   "cell_type": "markdown",
   "id": "minor-dating",
   "metadata": {},
   "source": [
    "###  <font size=4 color=\"#3498DB \"> 7. Obtenir une prédiction  <a name=\"1\"></a> </font>"
   ]
  },
  {
   "cell_type": "code",
   "execution_count": 105,
   "id": "checked-restaurant",
   "metadata": {},
   "outputs": [],
   "source": [
    "from azure.cognitiveservices.language.luis.runtime import LUISRuntimeClient\n",
    "\n",
    "prediction_key = os.getenv('AUTHORING_KEY')\n",
    "\n",
    "prediction_endpoint = os.getenv('PREDICTIONENDPOINT')\n",
    "\n",
    "runtimeCredentials = CognitiveServicesCredentials(prediction_key)\n",
    "clientRuntime = LUISRuntimeClient(endpoint=prediction_endpoint, credentials=runtimeCredentials)"
   ]
  },
  {
   "cell_type": "code",
   "execution_count": 23,
   "id": "agreed-colors",
   "metadata": {},
   "outputs": [],
   "source": [
    "def predict(app_id, slot_name):\n",
    "\n",
    "    request = { \"query\" : [\"book flight from London to Paris on May 22, 2021 returning june 21, 2021 for $300\"]}\n",
    "\n",
    "    # Note be sure to specify, using the slot_name parameter, whether your application is in staging or production.\n",
    "    response = clientRuntime.prediction.get_slot_prediction(app_id=app_id, slot_name=slot_name, prediction_request=request)\n",
    "\n",
    "    print(\"Top intent: {}\".format(response.prediction.top_intent))\n",
    "    #print(\"Sentiment: {}\".format (response.prediction.sentiment))\n",
    "    print(\"Intents: \")\n",
    "\n",
    "    for intent in response.prediction.intents:\n",
    "        print(\"\\t{}\".format (json.dumps (intent)))\n",
    "    print(\"Entities: {}\".format (response.prediction.entities))\n",
    "    return response.as_dict()"
   ]
  },
  {
   "cell_type": "code",
   "execution_count": 24,
   "id": "south-necklace",
   "metadata": {},
   "outputs": [
    {
     "name": "stdout",
     "output_type": "stream",
     "text": [
      "Prédiction:\n",
      "Top intent: book_flight\n",
      "Intents: \n",
      "\t\"book_flight\"\n",
      "Entities: {'from_city': ['London'], 'to_city': ['Paris'], 'from_dt': ['May 22, 2021'], 'to_dt': ['june 21, 2021'], 'budget': ['$300']}\n"
     ]
    }
   ],
   "source": [
    "print (\"Prédiction:\")\n",
    "pred = predict(app_id, \"Production\")"
   ]
  },
  {
   "cell_type": "markdown",
   "id": "earned-jonathan",
   "metadata": {},
   "source": [
    "Nous avons verifié que l'application est opérationelle. Maintenant nous allons suprimer cette prémiére version et créer une nouvelle avec tous les exemple d’énoncé à une intention du jeu d'entrainnement."
   ]
  },
  {
   "cell_type": "markdown",
   "id": "reported-falls",
   "metadata": {},
   "source": [
    "###  <font size=4 color=\"#3498DB \"> 8. Supprimer la version <a name=\"1\"></a> </font>"
   ]
  },
  {
   "cell_type": "code",
   "execution_count": 85,
   "id": "proper-partner",
   "metadata": {},
   "outputs": [],
   "source": [
    "def delete(endpoint, app_version, app_key, app_id):\n",
    "    \n",
    "    # On crée le client avec les informations d'authentification\n",
    "    client = LUISAuthoringClient(endpoint, prediction_key)\n",
    "\n",
    "    # On delete la version de l'app\n",
    "    client.versions.delete(app_id, app_version)"
   ]
  },
  {
   "cell_type": "code",
   "execution_count": null,
   "id": "color-arctic",
   "metadata": {},
   "outputs": [],
   "source": [
    "delete(authoring_endpoint,\"1\",authoring_key, app_id)"
   ]
  },
  {
   "cell_type": "markdown",
   "id": "ready-tactics",
   "metadata": {},
   "source": [
    "###  <font size=4 color=\"#3498DB \"> 9. Créer une nouvelle version <a name=\"1\"></a> </font>"
   ]
  },
  {
   "cell_type": "code",
   "execution_count": 87,
   "id": "executed-disney",
   "metadata": {},
   "outputs": [],
   "source": [
    "def new_version(authoring_endpoint, app_id, authoring_key, app_version, app_params: dict, app_utterances: list=[]):\n",
    "    \"\"\"Crée un nouvelle version de l'application\"\"\"\n",
    "    \n",
    "    # On ajoute les utterances aux paramètres de l'application\n",
    "    app_params_tmp = app_params.copy()\n",
    "    app_params_tmp[\"utterances\"] += app_utterances\n",
    "    \n",
    "    # On envoie la requête permettant de créer la nouvelle version\n",
    "    response = requests.post(\n",
    "        url=f\"{authoring_endpoint}luis/authoring/v3.0-preview/apps/{app_id}/versions/import\",\n",
    "        params={\n",
    "            \"versionId\": app_version,\n",
    "        },\n",
    "        headers={\n",
    "            \"Ocp-Apim-Subscription-Key\": authoring_key,\n",
    "        },\n",
    "        json=app_params_tmp\n",
    "    )\n",
    "    \n",
    "    # On vérifie la réponse\n",
    "    check_response_ok_or_raise_for_status(response)\n"
   ]
  },
  {
   "cell_type": "code",
   "execution_count": 88,
   "id": "promotional-stability",
   "metadata": {},
   "outputs": [],
   "source": [
    "file_path = os.path.join(JSON_PATH_LUIS, \"param.json\")\n",
    "with open(file_path, \"r\") as f:\n",
    "    app_params = json.load(f)"
   ]
  },
  {
   "cell_type": "code",
   "execution_count": 91,
   "id": "minimal-arrival",
   "metadata": {},
   "outputs": [],
   "source": [
    "file_path = os.path.join(JSON_PATH_LUIS, \"utterances_train.json\")\n",
    "with open(file_path, \"r\") as f:\n",
    "    utterances_train = json.load(f)"
   ]
  },
  {
   "cell_type": "code",
   "execution_count": 94,
   "id": "technical-peripheral",
   "metadata": {},
   "outputs": [],
   "source": [
    "app_version = \"final\"\n",
    "new_version(authoring_endpoint, app_id, authoring_key, app_version, app_params, utterances_train)"
   ]
  },
  {
   "cell_type": "code",
   "execution_count": 99,
   "id": "young-minority",
   "metadata": {},
   "outputs": [
    {
     "name": "stdout",
     "output_type": "stream",
     "text": [
      "Apprentissage de l’application ...\n",
      "Attendez 10 secondes pour que l'apprentissage se termine...\n",
      "\n"
     ]
    }
   ],
   "source": [
    "print (\"Apprentissage de l’application ...\")\n",
    "train_app(app_id, app_version)\n",
    "print ()"
   ]
  },
  {
   "cell_type": "code",
   "execution_count": 100,
   "id": "durable-liberty",
   "metadata": {},
   "outputs": [],
   "source": [
    "param = get_params(authoring_endpoint,app_version,authoring_key, app_id)\n",
    "\n",
    "file_path = os.path.join(JSON_PATH_LUIS, \"param.json\")\n",
    "with open(file_path, \"w\") as f:\n",
    "    json.dump(param, f)"
   ]
  },
  {
   "cell_type": "markdown",
   "id": "applied-radio",
   "metadata": {},
   "source": [
    "**Publier l'application dans l’emplacement de production** "
   ]
  },
  {
   "cell_type": "code",
   "execution_count": 103,
   "id": "rapid-honduras",
   "metadata": {},
   "outputs": [
    {
     "name": "stdout",
     "output_type": "stream",
     "text": [
      "On publie l'application...\n",
      "Point de terminaison: https://westeurope.api.cognitive.microsoft.com/luis/v2.0/apps/4151fd40-18a7-4701-8d67-bf7ec96a511a\n"
     ]
    }
   ],
   "source": [
    "print (\"On publie l'application...\")\n",
    "publish_app(app_id, app_version)"
   ]
  },
  {
   "cell_type": "markdown",
   "id": "reduced-fighter",
   "metadata": {},
   "source": [
    "**Evaluation du nouveau modèle**"
   ]
  },
  {
   "cell_type": "code",
   "execution_count": 106,
   "id": "unlimited-earthquake",
   "metadata": {},
   "outputs": [],
   "source": [
    "def check_response_ok_or_raise_for_status(response):\n",
    "    \"\"\"Vérifie que la réponse est ok ou génère une erreur\"\"\"\n",
    "    \n",
    "    # On génère une exception en cas d'erreur\n",
    "    if not response.ok:\n",
    "        print(response.content)\n",
    "        response.raise_for_status()\n",
    "\n",
    "def evaluate(endpoint, app_id, prediction_key, utterances: list, check_status_period: int=10):\n",
    "    \"\"\"Evaluation de l'application LUIS sur un jeu de test\"\"\"\n",
    "    \n",
    "    # On envoie la requête permettant de lancer l'évaluation\n",
    "    response = requests.post(\n",
    "        url=f\"{endpoint}luis/v3.0-preview/apps/{app_id}/slots/production/evaluations\",\n",
    "        headers={\n",
    "            \"Ocp-Apim-Subscription-Key\": prediction_key,\n",
    "        },\n",
    "        json=utterances\n",
    "    )\n",
    "    \n",
    "    # On vérifie la réponse\n",
    "    check_response_ok_or_raise_for_status(response)\n",
    "    \n",
    "    # On récupère l'id de l'opération\n",
    "    operation_id = response.json()[\"operationId\"]\n",
    "    \n",
    "    waiting = True\n",
    "    while waiting:\n",
    "        # On check le status\n",
    "        response = requests.get(\n",
    "            url=f\"{endpoint}luis/v3.0-preview/apps/{app_id}/slots/production/evaluations/{operation_id}/status\",\n",
    "            headers={\n",
    "                \"Ocp-Apim-Subscription-Key\": prediction_key,\n",
    "            }\n",
    "        )\n",
    "        \n",
    "        # On vérifie s'il y a une erreur\n",
    "        if response.json()[\"status\"] == \"failed\":\n",
    "            raise ValueError(response.content)\n",
    "        \n",
    "        waiting = response.json()[\"status\"] in [\"notstarted\", \"running\"]\n",
    "        \n",
    "        if waiting:\n",
    "            time.sleep(check_status_period)\n",
    "        \n",
    "    # On récupère les résultats de l'évaluation\n",
    "    response = requests.get(\n",
    "        url=f\"{endpoint}luis/v3.0-preview/apps/{app_id}/slots/production/evaluations/{operation_id}/result\",\n",
    "        headers={\n",
    "            \"Ocp-Apim-Subscription-Key\": prediction_key,\n",
    "        }\n",
    "    )\n",
    "    \n",
    "    # On récupère les résultats\n",
    "    res = response.json()\n",
    "    \n",
    "    # On met en forme les résultats dans un DataFrame\n",
    "    res = pd.DataFrame(res[\"intentModelsStats\"] + res[\"entityModelsStats\"])\n",
    "    res.iloc[:, -3:] = res.iloc[:, -3:].astype(float)\n",
    "    res.columns = [\n",
    "        \"model_name\",\n",
    "        \"model_type\",\n",
    "        f\"precision\",\n",
    "        f\"recall\",\n",
    "        f\"f_score\",\n",
    "    ]\n",
    "    \n",
    "    return res"
   ]
  },
  {
   "cell_type": "code",
   "execution_count": 107,
   "id": "handled-bishop",
   "metadata": {},
   "outputs": [],
   "source": [
    "file_path = os.path.join(JSON_PATH_LUIS, \"utterances_test.json\")\n",
    "with open(file_path, \"r\") as f:\n",
    "    utterances_test = json.load(f)"
   ]
  },
  {
   "cell_type": "code",
   "execution_count": 113,
   "id": "difficult-spending",
   "metadata": {},
   "outputs": [],
   "source": [
    "results = evaluate(prediction_endpoint, app_id, prediction_key, utterances_test)"
   ]
  },
  {
   "cell_type": "code",
   "execution_count": 114,
   "id": "supreme-confusion",
   "metadata": {
    "scrolled": true
   },
   "outputs": [
    {
     "data": {
      "text/html": [
       "<div>\n",
       "<style scoped>\n",
       "    .dataframe tbody tr th:only-of-type {\n",
       "        vertical-align: middle;\n",
       "    }\n",
       "\n",
       "    .dataframe tbody tr th {\n",
       "        vertical-align: top;\n",
       "    }\n",
       "\n",
       "    .dataframe thead th {\n",
       "        text-align: right;\n",
       "    }\n",
       "</style>\n",
       "<table border=\"1\" class=\"dataframe\">\n",
       "  <thead>\n",
       "    <tr style=\"text-align: right;\">\n",
       "      <th></th>\n",
       "      <th>model_name</th>\n",
       "      <th>model_type</th>\n",
       "      <th>precision</th>\n",
       "      <th>recall</th>\n",
       "      <th>f_score</th>\n",
       "    </tr>\n",
       "  </thead>\n",
       "  <tbody>\n",
       "    <tr>\n",
       "      <th>0</th>\n",
       "      <td>book_flight</td>\n",
       "      <td>Intent Classifier</td>\n",
       "      <td>0.93</td>\n",
       "      <td>0.97</td>\n",
       "      <td>0.95</td>\n",
       "    </tr>\n",
       "    <tr>\n",
       "      <th>1</th>\n",
       "      <td>None</td>\n",
       "      <td>Intent Classifier</td>\n",
       "      <td>0.90</td>\n",
       "      <td>0.83</td>\n",
       "      <td>0.86</td>\n",
       "    </tr>\n",
       "    <tr>\n",
       "      <th>2</th>\n",
       "      <td>budget</td>\n",
       "      <td>Entity Extractor</td>\n",
       "      <td>0.85</td>\n",
       "      <td>1.00</td>\n",
       "      <td>0.92</td>\n",
       "    </tr>\n",
       "    <tr>\n",
       "      <th>3</th>\n",
       "      <td>from_city</td>\n",
       "      <td>Entity Extractor</td>\n",
       "      <td>0.81</td>\n",
       "      <td>0.97</td>\n",
       "      <td>0.88</td>\n",
       "    </tr>\n",
       "    <tr>\n",
       "      <th>4</th>\n",
       "      <td>from_dt</td>\n",
       "      <td>Entity Extractor</td>\n",
       "      <td>0.86</td>\n",
       "      <td>1.00</td>\n",
       "      <td>0.92</td>\n",
       "    </tr>\n",
       "    <tr>\n",
       "      <th>5</th>\n",
       "      <td>to_city</td>\n",
       "      <td>Entity Extractor</td>\n",
       "      <td>0.91</td>\n",
       "      <td>0.95</td>\n",
       "      <td>0.93</td>\n",
       "    </tr>\n",
       "    <tr>\n",
       "      <th>6</th>\n",
       "      <td>to_dt</td>\n",
       "      <td>Entity Extractor</td>\n",
       "      <td>0.87</td>\n",
       "      <td>1.00</td>\n",
       "      <td>0.93</td>\n",
       "    </tr>\n",
       "  </tbody>\n",
       "</table>\n",
       "</div>"
      ],
      "text/plain": [
       "    model_name         model_type  precision  recall  f_score\n",
       "0  book_flight  Intent Classifier       0.93    0.97     0.95\n",
       "1         None  Intent Classifier       0.90    0.83     0.86\n",
       "2       budget   Entity Extractor       0.85    1.00     0.92\n",
       "3    from_city   Entity Extractor       0.81    0.97     0.88\n",
       "4      from_dt   Entity Extractor       0.86    1.00     0.92\n",
       "5      to_city   Entity Extractor       0.91    0.95     0.93\n",
       "6        to_dt   Entity Extractor       0.87    1.00     0.93"
      ]
     },
     "execution_count": 114,
     "metadata": {},
     "output_type": "execute_result"
    }
   ],
   "source": [
    "results"
   ]
  },
  {
   "cell_type": "code",
   "execution_count": 151,
   "id": "appropriate-immigration",
   "metadata": {},
   "outputs": [
    {
     "name": "stdout",
     "output_type": "stream",
     "text": [
      "https://p10luis.cognitiveservices.azure.com/\n"
     ]
    }
   ],
   "source": [
    "print(prediction_endpoint)"
   ]
  },
  {
   "cell_type": "code",
   "execution_count": null,
   "id": "married-money",
   "metadata": {},
   "outputs": [],
   "source": []
  }
 ],
 "metadata": {
  "kernelspec": {
   "display_name": "p09",
   "language": "python",
   "name": "p09"
  },
  "language_info": {
   "codemirror_mode": {
    "name": "ipython",
    "version": 3
   },
   "file_extension": ".py",
   "mimetype": "text/x-python",
   "name": "python",
   "nbconvert_exporter": "python",
   "pygments_lexer": "ipython3",
   "version": "3.8.5"
  }
 },
 "nbformat": 4,
 "nbformat_minor": 5
}
